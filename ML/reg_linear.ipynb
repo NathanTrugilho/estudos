{
 "cells": [
  {
   "cell_type": "markdown",
   "metadata": {},
   "source": [
    "<h3>Primeiro vou gerar uma base de dados de idades"
   ]
  },
  {
   "cell_type": "code",
   "execution_count": null,
   "metadata": {},
   "outputs": [],
   "source": [
    "import numpy as np\n",
    "import matplotlib.pyplot as plt\n",
    "\n",
    "np.random.seed(42) #to usando uma seed fixa pra ter controle dos dados (do sorteio)\n",
    "ages = np.random.randint(low=15, high=70, size=40) #sortear idades de 15 a 70\n",
    "\n",
    "ages"
   ]
  },
  {
   "cell_type": "markdown",
   "metadata": {},
   "source": [
    "<h3>Aqui vou definir que quem tiver mais que 29 anos terá um seguro, e faço isso com essa lista que usará 0 ou 1 para cada pessoa na posição da lista"
   ]
  },
  {
   "cell_type": "code",
   "execution_count": null,
   "metadata": {},
   "outputs": [],
   "source": [
    "labels = []\n",
    "for age in ages:\n",
    "    if age < 30:\n",
    "        labels.append(0)\n",
    "    else:\n",
    "        labels.append(1)"
   ]
  },
  {
   "cell_type": "markdown",
   "metadata": {},
   "source": [
    "<h3>Mostro as pessoas que têm seguro e não tem"
   ]
  },
  {
   "cell_type": "code",
   "execution_count": null,
   "metadata": {},
   "outputs": [],
   "source": [
    "plt.scatter(ages, labels, color=\"red\")\n",
    "plt.show()"
   ]
  },
  {
   "cell_type": "markdown",
   "metadata": {},
   "source": [
    "<h3> Vou usar regressão linear para prever se uma pessoa vai precisar de seguro (Regressão linear é melhor para previsão de valores contínuos)"
   ]
  },
  {
   "cell_type": "code",
   "execution_count": null,
   "metadata": {},
   "outputs": [],
   "source": [
    "from sklearn.linear_model import LinearRegression\n",
    "\n",
    "model = LinearRegression()\n",
    "model.fit(ages.reshape(-1,1), labels)\n",
    "\n",
    "a = model.coef_[0]\n",
    "b = model.intercept_\n",
    "\n",
    "print(a, b)"
   ]
  },
  {
   "cell_type": "markdown",
   "metadata": {},
   "source": [
    "<h3> Ploto a reta pra ver"
   ]
  },
  {
   "cell_type": "code",
   "execution_count": null,
   "metadata": {},
   "outputs": [],
   "source": [
    "limiar_idade = (0.5 - b)/ a # Aqui eu manipulo a eq reta y = ax + b para descobrir a idade onde a pessoa tem 50% de chance de fazer um seguro\n",
    "print(limiar_idade)\n",
    "\n",
    "plt.plot(ages, a*ages + b, color='blue')\n",
    "plt.scatter(ages, labels, color=\"red\")\n",
    "plt.plot([limiar_idade, limiar_idade], [0, 0.5], '--', color = 'green')\n",
    "plt.show()"
   ]
  }
 ],
 "metadata": {
  "kernelspec": {
   "display_name": "Python 3",
   "language": "python",
   "name": "python3"
  },
  "language_info": {
   "codemirror_mode": {
    "name": "ipython",
    "version": 3
   },
   "file_extension": ".py",
   "mimetype": "text/x-python",
   "name": "python",
   "nbconvert_exporter": "python",
   "pygments_lexer": "ipython3",
   "version": "3.10.8"
  }
 },
 "nbformat": 4,
 "nbformat_minor": 2
}
