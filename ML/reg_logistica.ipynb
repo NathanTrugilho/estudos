{
 "cells": [
  {
   "cell_type": "markdown",
   "metadata": {},
   "source": [
    "<h3>Primeiro vou gerar uma base de dados de idades"
   ]
  },
  {
   "cell_type": "code",
   "execution_count": null,
   "metadata": {},
   "outputs": [],
   "source": [
    "import numpy as np\n",
    "import matplotlib.pyplot as plt\n",
    "\n",
    "np.random.seed(42) #to usando uma seed fixa pra ter controle dos dados (do sorteio)\n",
    "ages = np.random.randint(low=15, high=70, size=40) #sortear idades de 15 a 70\n",
    "\n",
    "ages"
   ]
  },
  {
   "cell_type": "markdown",
   "metadata": {},
   "source": [
    "<h3>Aqui vou definir que quem tiver mais que 29 anos terá um seguro, e faço isso com essa lista que usará 0 ou 1 para cada pessoa na posição da lista"
   ]
  },
  {
   "cell_type": "code",
   "execution_count": null,
   "metadata": {},
   "outputs": [],
   "source": [
    "labels = []\n",
    "for age in ages:\n",
    "    if age < 30:\n",
    "        labels.append(0)\n",
    "    else:\n",
    "        labels.append(1)"
   ]
  },
  {
   "cell_type": "markdown",
   "metadata": {},
   "source": [
    "<h3>Mostro as pessoas que têm seguro e não tem"
   ]
  },
  {
   "cell_type": "code",
   "execution_count": null,
   "metadata": {},
   "outputs": [],
   "source": [
    "plt.scatter(ages, labels, color=\"red\")\n",
    "plt.show()"
   ]
  },
  {
   "cell_type": "markdown",
   "metadata": {},
   "source": [
    "<h3>Usando a regressão logística - Boa para previsões de valores binários (nesse caso, os valores binários seriam se a pessoa vai usar um seguro ou não)"
   ]
  },
  {
   "cell_type": "code",
   "execution_count": null,
   "metadata": {},
   "outputs": [],
   "source": [
    "from sklearn.linear_model import LogisticRegression\n",
    "import math\n",
    "\n",
    "def sigmoid(x):\n",
    "    a = []\n",
    "    for item in x:\n",
    "        a.append(1/(1+math.exp(-item)))\n",
    "    return a\n",
    "\n",
    "model = LogisticRegression()\n",
    "model.fit(ages.reshape(-1,1), labels)\n",
    "\n",
    "a = model.coef_[0][0]\n",
    "b = model.intercept_[0]\n",
    "\n",
    "limiar_idade = abs(b / a)\n",
    "print(limiar_idade)\n",
    "\n",
    "x = np.arange(0, 70, 0.1)\n",
    "sig = sigmoid(a*x + b)\n",
    "\n",
    "plt.scatter(ages, labels, color=\"red\")\n",
    "plt.plot(x, sig, color='blue')\n",
    "plt.plot([limiar_idade, limiar_idade], [0, 0.5], '--', color = 'green')\n",
    "plt.show()"
   ]
  }
 ],
 "metadata": {
  "kernelspec": {
   "display_name": "Python 3",
   "language": "python",
   "name": "python3"
  },
  "language_info": {
   "codemirror_mode": {
    "name": "ipython",
    "version": 3
   },
   "file_extension": ".py",
   "mimetype": "text/x-python",
   "name": "python",
   "nbconvert_exporter": "python",
   "pygments_lexer": "ipython3",
   "version": "3.10.8"
  }
 },
 "nbformat": 4,
 "nbformat_minor": 2
}
